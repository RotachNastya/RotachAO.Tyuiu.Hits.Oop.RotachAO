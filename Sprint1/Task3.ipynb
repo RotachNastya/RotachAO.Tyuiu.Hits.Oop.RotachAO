{
 "cells": [
  {
   "cell_type": "markdown",
   "metadata": {},
   "source": [
    "<h1 style=\"color:DodgerBlue\">Индивидальный проект</h1>"
   ]
  },
  {
   "cell_type": "markdown",
   "metadata": {},
   "source": [
    "<h2 style=\"color:DodgerBlue\">Название проекта:</h2>\n",
    "\n",
    "----\n",
    "\n",
    "### Вариант задания 21\n"
   ]
  },
  {
   "cell_type": "markdown",
   "metadata": {},
   "source": [
    "<h2 style=\"color:DodgerBlue\">Описание проекта:</h2>\n",
    "\n",
    "----\n",
    "\n",
    "[ваш текст]\n",
    "\n",
    "#### Дополнительное задание\n",
    "Добавьте к сущестующим классам конструктора классов с использованием гетторов и сетторов и реализуйте взаимодействие объектов между собой"
   ]
  },
  {
   "cell_type": "markdown",
   "metadata": {},
   "source": [
    "<h2 style=\"color:DodgerBlue\">Реализация:</h2>\n",
    "\n",
    "----"
   ]
  },
  {
   "cell_type": "code",
   "execution_count": 3,
   "metadata": {
    "dotnet_interactive": {
     "language": "csharp"
    },
    "polyglot_notebook": {
     "kernelName": "csharp"
    }
   },
   "outputs": [],
   "source": [
    "using System;\n",
    "\n",
    "class Ticket \n",
    "{\n",
    "    private int ticketID;\n",
    "    public int TicketID\n",
    "    {\n",
    "        get { return ticketID; }        // Геттер - возвращает ID билета\n",
    "        set { ticketID = value; }       // Сеттер - устанавливает ID билета\n",
    "    }\n",
    "\n",
    "    private int rowNumber;\n",
    "    public int RowNumber\n",
    "    {\n",
    "        get { return rowNumber; }       // Геттер - возвращает номер ряда\n",
    "        set { rowNumber = value; }      // Сеттер - устанавливает номер ряда\n",
    "    }\n",
    "\n",
    "    private int seatNumber;\n",
    "    public int SeatNumber\n",
    "    {\n",
    "        get { return seatNumber; }      // Геттер - возвращает номер места\n",
    "        set { seatNumber = value; }     // Сеттер - устанавливает номер места\n",
    "    }\n",
    "\n",
    "    // Конструктор базового класса\n",
    "    public Ticket(int id, int row, int seat)\n",
    "    {\n",
    "        ticketID = id;\n",
    "        rowNumber = row;\n",
    "        seatNumber = seat;\n",
    "    }\n",
    "\n",
    "    // Метод для вывода информации о билете\n",
    "    public void PrintInfo()\n",
    "    {\n",
    "        Console.WriteLine($\"Билет {ticketID}: Ряд {rowNumber}, Место {seatNumber}\");\n",
    "    }\n",
    "}\n",
    "\n",
    "class ConcertTicket : Ticket  // Наследование от класса Ticket\n",
    "{\n",
    "    private string artist;\n",
    "    public string Artist\n",
    "    {\n",
    "        get { return artist; }          // Геттер - возвращает имя артиста\n",
    "        set { artist = value; }         // Сеттер - устанавливает имя артиста\n",
    "    }\n",
    "\n",
    "    // Конструктор производного класса\n",
    "    public ConcertTicket(int id, int row, int seat, string artist) : base(id, row, seat)\n",
    "    {\n",
    "        this.artist = artist;           // Инициализация поля артиста\n",
    "    }\n",
    "\n",
    "    // Метод для вывода информации о концерте\n",
    "    public void PrintConcertInfo()\n",
    "    {\n",
    "        Console.WriteLine($\"Концерт {artist} - Ряд {RowNumber}, Место {SeatNumber}\");\n",
    "    }\n",
    "}\n",
    "\n",
    "// Использование\n",
    "class Program\n",
    "{\n",
    "    static void Main()\n",
    "    {\n",
    "        ConcertTicket ticket = new ConcertTicket(1, 5, 12, \"Егор Крид\");\n",
    "        ticket.PrintConcertInfo();      // Вывод информации о концертном билете\n",
    "\n",
    "        // Работа с геттерами/сеттерами\n",
    "        ticket.RowNumber = 6;           // Сеттер - изменение номера ряда\n",
    "        Console.WriteLine(ticket.Artist); // Геттер - получение имени артиста\n",
    "    }\n",
    "}"
   ]
  }
 ],
 "metadata": {
  "kernelspec": {
   "display_name": ".NET (C#)",
   "language": "C#",
   "name": ".net-csharp"
  },
  "polyglot_notebook": {
   "kernelInfo": {
    "defaultKernelName": "csharp",
    "items": [
     {
      "aliases": [],
      "languageName": "csharp",
      "name": "csharp"
     }
    ]
   }
  }
 },
 "nbformat": 4,
 "nbformat_minor": 2
}
