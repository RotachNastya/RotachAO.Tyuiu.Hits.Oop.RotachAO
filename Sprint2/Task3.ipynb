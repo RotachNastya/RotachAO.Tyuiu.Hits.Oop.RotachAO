{
 "cells": [
  {
   "cell_type": "markdown",
   "metadata": {},
   "source": [
    "<h1 style=\"color:DodgerBlue\">Индивидальный проект</h1>"
   ]
  },
  {
   "cell_type": "markdown",
   "metadata": {},
   "source": [
    "<h2 style=\"color:DodgerBlue\">Название проекта:</h2>\n",
    "\n",
    "----\n",
    "\n",
    "### Вариант задания  21\n",
    "\n"
   ]
  },
  {
   "cell_type": "markdown",
   "metadata": {},
   "source": [
    "<h2 style=\"color:DodgerBlue\">Описание проекта:</h2>\n",
    "\n",
    "----\n",
    "\n",
    "[ваш текст]\n",
    "\n",
    "#### Дополнительное задание\n",
    "Добавьте к сущестующим классам (базовыму и производным 3-4 атрибута и метода) и реализуйте простое, сложное и множественное наследование"
   ]
  },
  {
   "cell_type": "markdown",
   "metadata": {},
   "source": [
    "<h2 style=\"color:DodgerBlue\">Реализация:</h2>\n",
    "\n",
    "----"
   ]
  },
  {
   "cell_type": "code",
   "execution_count": 2,
   "metadata": {
    "dotnet_interactive": {
     "language": "csharp"
    },
    "polyglot_notebook": {
     "kernelName": "csharp"
    }
   },
   "outputs": [
    {
     "name": "stdout",
     "output_type": "stream",
     "text": [
      "Woof!\n",
      "Rex is eating\n",
      "Rex is guarding\n",
      "Meow!\n",
      "Feeding milk\n",
      "Barsik is climbing\n",
      "Max is playing\n",
      "Max is training\n",
      "Max is guarding\n"
     ]
    }
   ],
   "source": [
    "// Базовый класс с дополнительными атрибутами\n",
    "public class Animal\n",
    "{\n",
    "    public string Name { get; set; }\n",
    "    public int Age { get; set; }\n",
    "    public string Color { get; set; }          // Цвет животного\n",
    "    public double Weight { get; set; }         // Вес животного в кг\n",
    "    \n",
    "    public Animal(string name, int age, string color, double weight)\n",
    "    {\n",
    "        Name = name;\n",
    "        Age = age;\n",
    "        Color = color;\n",
    "        Weight = weight;\n",
    "    }\n",
    "    \n",
    "    public virtual void Sound() => Console.WriteLine(\"Some sound\");\n",
    "    public void Eat() => Console.WriteLine($\"{Name} is eating\");      // Метод питания\n",
    "    public void Sleep() => Console.WriteLine($\"{Name} is sleeping\");  // Метод сна\n",
    "}\n",
    "\n",
    "// Простое наследование - собака наследуется напрямую от животного\n",
    "public class Dog : Animal\n",
    "{\n",
    "    public string Breed { get; set; }          // Порода собаки (например, \"овчарка\", \"лабрадор\")\n",
    "    \n",
    "    public Dog(string name, int age, string color, double weight, string breed) \n",
    "        : base(name, age, color, weight)\n",
    "    {\n",
    "        Breed = breed;\n",
    "    }\n",
    "    \n",
    "    public override void Sound() => Console.WriteLine(\"Woof!\");\n",
    "    public void Guard() => Console.WriteLine($\"{Name} is guarding\");  // Собака охраняет\n",
    "}\n",
    "\n",
    "// Сложное наследование через промежуточный класс\n",
    "public class Mammal : Animal\n",
    "{\n",
    "    public bool HasFur { get; set; }           // Наличие шерсти (true - есть шерсть, false - нет шерсти)\n",
    "    \n",
    "    public Mammal(string name, int age, string color, double weight, bool hasFur)\n",
    "        : base(name, age, color, weight)\n",
    "    {\n",
    "        HasFur = hasFur;\n",
    "    }\n",
    "    \n",
    "    public void FeedMilk() => Console.WriteLine(\"Feeding milk\");     // Млекопитающие кормят молоком\n",
    "}\n",
    "\n",
    "public class Cat : Mammal\n",
    "{\n",
    "    public Cat(string name, int age, string color, double weight, bool hasFur)\n",
    "        : base(name, age, color, weight, hasFur) { }\n",
    "    \n",
    "    public override void Sound() => Console.WriteLine(\"Meow!\");\n",
    "    public void Climb() => Console.WriteLine($\"{Name} is climbing\"); // Кошка умеет лазить\n",
    "}\n",
    "\n",
    "// Множественное наследование через интерфейсы\n",
    "public interface IPet\n",
    "{\n",
    "    void Play();  // Интерфейс для домашних питомцев\n",
    "}\n",
    "\n",
    "public interface ITrainable\n",
    "{\n",
    "    void Train(); // Интерфейс для животных, которых можно дрессировать\n",
    "}\n",
    "\n",
    "public class SmartDog : Dog, IPet, ITrainable\n",
    "{\n",
    "    public SmartDog(string name, int age, string color, double weight, string breed)\n",
    "        : base(name, age, color, weight, breed) { }\n",
    "    \n",
    "    public void Play() => Console.WriteLine($\"{Name} is playing\");  // Реализация интерфейса IPet\n",
    "    public void Train() => Console.WriteLine($\"{Name} is training\"); // Реализация интерфейса ITrainable\n",
    "}\n",
    "\n",
    "// Проверка работы классов\n",
    "var dog = new Dog(\"Rex\", 3, \"Brown\", 15.5, \"Shepherd\");\n",
    "dog.Sound();    // Собака лает\n",
    "dog.Eat();      // Собака ест\n",
    "dog.Guard();    // Собака охраняет\n",
    "\n",
    "var cat = new Cat(\"Barsik\", 2, \"White\", 4.2, true);\n",
    "cat.Sound();     // Кошка мяукает\n",
    "cat.FeedMilk();  // Кошка как млекопитающее кормит молоком\n",
    "cat.Climb();     // Кошка лазит\n",
    "\n",
    "var smartDog = new SmartDog(\"Max\", 2, \"Black\", 12.0, \"Labrador\");\n",
    "smartDog.Play();   // Умная собака играет\n",
    "smartDog.Train();  // Умная собака тренируется\n",
    "smartDog.Guard();  // Умная собака охраняет"
   ]
  }
 ],
 "metadata": {
  "kernelspec": {
   "display_name": ".NET (C#)",
   "language": "C#",
   "name": ".net-csharp"
  },
  "polyglot_notebook": {
   "kernelInfo": {
    "defaultKernelName": "csharp",
    "items": [
     {
      "aliases": [],
      "languageName": "csharp",
      "name": "csharp"
     }
    ]
   }
  }
 },
 "nbformat": 4,
 "nbformat_minor": 2
}
