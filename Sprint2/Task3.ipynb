{
 "cells": [
  {
   "cell_type": "markdown",
   "metadata": {},
   "source": [
    "<h1 style=\"color:DodgerBlue\">Индивидальный проект</h1>"
   ]
  },
  {
   "cell_type": "markdown",
   "metadata": {},
   "source": [
    "<h2 style=\"color:DodgerBlue\">Название проекта:</h2>\n",
    "\n",
    "----\n",
    "\n",
    "### Вариант задания  21\n",
    "\n"
   ]
  },
  {
   "cell_type": "markdown",
   "metadata": {},
   "source": [
    "<h2 style=\"color:DodgerBlue\">Описание проекта:</h2>\n",
    "\n",
    "----\n",
    "\n",
    "[ваш текст]\n",
    "\n",
    "#### Дополнительное задание\n",
    "Добавьте к сущестующим классам (базовыму и производным 3-4 атрибута и метода) и реализуйте простое, сложное и множественное наследование"
   ]
  },
  {
   "cell_type": "markdown",
   "metadata": {},
   "source": [
    "<h2 style=\"color:DodgerBlue\">Реализация:</h2>\n",
    "\n",
    "----"
   ]
  },
  {
   "cell_type": "code",
   "execution_count": 1,
   "metadata": {
    "dotnet_interactive": {
     "language": "csharp"
    },
    "polyglot_notebook": {
     "kernelName": "csharp"
    }
   },
   "outputs": [
    {
     "name": "stdout",
     "output_type": "stream",
     "text": [
      "Woof!\n",
      "Rex is eating\n",
      "Rex is guarding\n",
      "Meow!\n",
      "Feeding milk\n",
      "Barsik is climbing\n",
      "Max is playing\n",
      "Max is training\n",
      "Max is guarding\n"
     ]
    }
   ],
   "source": [
    "// Базовый класс  доп. атрибуты\n",
    "public class Animal\n",
    "{\n",
    "    public string Name { get; set; }\n",
    "    public int Age { get; set; }\n",
    "    public string Color { get; set; }          // новый атрибут\n",
    "    public double Weight { get; set; }         // новый атрибут\n",
    "    \n",
    "    public Animal(string name, int age, string color, double weight)\n",
    "    {\n",
    "        Name = name;\n",
    "        Age = age;\n",
    "        Color = color;\n",
    "        Weight = weight;\n",
    "    }\n",
    "    \n",
    "    public virtual void Sound() => Console.WriteLine(\"Some sound\");\n",
    "    public void Eat() => Console.WriteLine($\"{Name} is eating\");      // новый метод\n",
    "    public void Sleep() => Console.WriteLine($\"{Name} is sleeping\");  // новый метод\n",
    "}\n",
    "\n",
    "// Простое наследование\n",
    "public class Dog : Animal\n",
    "{\n",
    "    public string Breed { get; set; }          // новый атрибут\n",
    "    \n",
    "    public Dog(string name, int age, string color, double weight, string breed) \n",
    "        : base(name, age, color, weight)\n",
    "    {\n",
    "        Breed = breed;\n",
    "    }\n",
    "    \n",
    "    public override void Sound() => Console.WriteLine(\"Woof!\");\n",
    "    public void Guard() => Console.WriteLine($\"{Name} is guarding\");  // новый метод\n",
    "}\n",
    "\n",
    "// Сложное наследование через промежуточный класс\n",
    "public class Mammal : Animal\n",
    "{\n",
    "    public bool HasFur { get; set; }           // новый атрибут\n",
    "    \n",
    "    public Mammal(string name, int age, string color, double weight, bool hasFur)\n",
    "        : base(name, age, color, weight)\n",
    "    {\n",
    "        HasFur = hasFur;\n",
    "    }\n",
    "    \n",
    "    public void FeedMilk() => Console.WriteLine(\"Feeding milk\");     // новый метод\n",
    "}\n",
    "\n",
    "public class Cat : Mammal\n",
    "{\n",
    "    public Cat(string name, int age, string color, double weight, bool hasFur)\n",
    "        : base(name, age, color, weight, hasFur) { }\n",
    "    \n",
    "    public override void Sound() => Console.WriteLine(\"Meow!\");\n",
    "    public void Climb() => Console.WriteLine($\"{Name} is climbing\"); // новый метод\n",
    "}\n",
    "\n",
    "// Множественное наследование через интерфейсы\n",
    "public interface IPet\n",
    "{\n",
    "    void Play();\n",
    "}\n",
    "\n",
    "public interface ITrainable\n",
    "{\n",
    "    void Train();\n",
    "}\n",
    "\n",
    "public class SmartDog : Dog, IPet, ITrainable\n",
    "{\n",
    "    public SmartDog(string name, int age, string color, double weight, string breed)\n",
    "        : base(name, age, color, weight, breed) { }\n",
    "    \n",
    "    public void Play() => Console.WriteLine($\"{Name} is playing\");\n",
    "    public void Train() => Console.WriteLine($\"{Name} is training\");\n",
    "}\n",
    "\n",
    "// Проверка\n",
    "var dog = new Dog(\"Rex\", 3, \"Brown\", 15.5, \"Shepherd\");\n",
    "dog.Sound();\n",
    "dog.Eat();\n",
    "dog.Guard();\n",
    "\n",
    "var cat = new Cat(\"Barsik\", 2, \"White\", 4.2, true);\n",
    "cat.Sound();\n",
    "cat.FeedMilk();\n",
    "cat.Climb();\n",
    "\n",
    "var smartDog = new SmartDog(\"Max\", 2, \"Black\", 12.0, \"Labrador\");\n",
    "smartDog.Play();\n",
    "smartDog.Train();\n",
    "smartDog.Guard();"
   ]
  }
 ],
 "metadata": {
  "kernelspec": {
   "display_name": ".NET (C#)",
   "language": "C#",
   "name": ".net-csharp"
  },
  "polyglot_notebook": {
   "kernelInfo": {
    "defaultKernelName": "csharp",
    "items": [
     {
      "aliases": [],
      "languageName": "csharp",
      "name": "csharp"
     }
    ]
   }
  }
 },
 "nbformat": 4,
 "nbformat_minor": 2
}
