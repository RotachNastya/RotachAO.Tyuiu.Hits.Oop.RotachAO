{
 "cells": [
  {
   "cell_type": "markdown",
   "metadata": {},
   "source": [
    "<h1 style=\"color:DodgerBlue\">Индивидальный проект</h1>"
   ]
  },
  {
   "cell_type": "markdown",
   "metadata": {},
   "source": [
    "<h2 style=\"color:DodgerBlue\">Название проекта:</h2>\n",
    "\n",
    "----\n",
    "\n",
    "### Вариант задания 21\n"
   ]
  },
  {
   "cell_type": "markdown",
   "metadata": {},
   "source": [
    "<h2 style=\"color:DodgerBlue\">Описание проекта:</h2>\n",
    "\n",
    "----\n",
    "**Вариант задания № 21**\n",
    "\n",
    "**Описание задачи:**\n",
    "\n",
    "Создать базовый класс Ticket в C#, который будет представлять билеты на различные мероприятия. На основе этого класса разработать 2-3 производных класса, демонстрирующих принципы наследования и полиморфизма. В каждом из классов должны быть реализованы новые атрибуты и методы, а также переопределены некоторые методы базового класса для демонстрации полиморфизма.\n",
    "\n",
    "**Требования к базовому классу Ticket:**\n",
    "\n",
    "- **Атрибуты:** ID билета (TicketId), Номер ряда (RowNumber), Номер места (SeatNumber).\n",
    "\n",
    "- **Методы:**\n",
    "  - PrintTicketInfo(): метод для печати информации о билете.\n",
    "  - ReserveSeat(): метод для резервирования места.\n",
    "  - GetTicketDetails(): метод для получения деталей билета.\n",
    "\n",
    "**Требования к производным классам:**\n",
    "\n",
    "1. **БилетНаКонцерт (ConcertTicket):** Должен содержать дополнительные атрибуты, такие как Имя исполнителя (ArtistName). Метод PrintTicketInfo() должен быть переопределен для включения имени исполнителя в информацию о билете.\n",
    "\n",
    "2. **БилетНаСпектакль (PlayTicket):** Должен содержать дополнительные атрибуты, такие как Название спектакля (PlayTitle). Метод GetTicketDetails() должен быть переопределен для отображения названия спектакля вместе с другими деталями билета.\n",
    "\n",
    "3. **БилетНаКонференцию (ConferenceTicket)** (если требуется третий класс): Должен содержать дополнительные атрибуты, такие как Название конференции (ConferenceName). Метод ReserveSeat() должен быть переопределен для добавления информации о предпочтениях участника относительно мест.\n",
    "[ваш текст]\n"
   ]
  },
  {
   "cell_type": "markdown",
   "metadata": {},
   "source": [
    "<h2 style=\"color:DodgerBlue\">Реализация:</h2>\n",
    "\n",
    "----"
   ]
  },
  {
   "cell_type": "code",
   "execution_count": 9,
   "metadata": {
    "dotnet_interactive": {
     "language": "csharp"
    },
    "polyglot_notebook": {
     "kernelName": "csharp"
    }
   },
   "outputs": [
    {
     "name": "stdout",
     "output_type": "stream",
     "text": [
      " Билет на концерт исполнителя Егор Крид напечатан.\n",
      " Билет №1, Ряд  8,  Место 4.\n"
     ]
    }
   ],
   "source": [
    "class Ticket \n",
    "{\n",
    "    private int ticketID;\n",
    "    public int TicketID\n",
    "    {\n",
    "        get { return ticketID; }\n",
    "        set { ticketID = value; }\n",
    "    }\n",
    "\n",
    "    private int  rowNumber;\n",
    "    public int RowNumber\n",
    "    {\n",
    "        get { return rowNumber; }\n",
    "        set { rowNumber = value; }\n",
    "    }\n",
    "\n",
    "    private int seatNumber;\n",
    "    public int SeatNumber\n",
    "    {\n",
    "        get { return seatNumber; }\n",
    "        set { seatNumber = value; }\n",
    "    }\n",
    "\n",
    "    public virtual void PrintTicketInfo()\n",
    "    {\n",
    "        Console.WriteLine(\"Билет напечатан.\");\n",
    "    }\n",
    "\n",
    "    public virtual void ReserveSeat()\n",
    "    {\n",
    "        Console.WriteLine(\"Место зарезервировано.\");\n",
    "    }\n",
    "\n",
    "    public virtual void GetTicketDetails()\n",
    "    {\n",
    "        Console.WriteLine($\" Билет №{ticketID}, Ряд  {rowNumber},  Место {seatNumber}.\");\n",
    "    }\n",
    "}\n",
    "\n",
    "class ConcertTicket : Ticket\n",
    "{\n",
    "    private string artistName;\n",
    "    public string ArtistName\n",
    "    {\n",
    "        get { return artistName; }\n",
    "        set { artistName = value; }\n",
    "    }\n",
    "\n",
    "    public override void PrintTicketInfo()\n",
    "    {\n",
    "        Console.WriteLine($\" Билет на концерт исполнителя {artistName} напечатан.\");\n",
    "    }\n",
    "}\n",
    "\n",
    "class PlayTicket : Ticket\n",
    "{\n",
    "    private string playTitle;\n",
    "    public string PlayTitle\n",
    "    {\n",
    "        get { return playTitle; }\n",
    "        set { playTitle = value; }\n",
    "    }\n",
    "\n",
    "    public override void GetTicketDetails()\n",
    "    {\n",
    "     Console.WriteLine($\" Билет №{base.TicketID} на {playTitle}, Ряд  {base.RowNumber},  Место {base.SeatNumber}.\");\n",
    "    }\n",
    "}\n",
    "\n",
    "class ConferenceTicket : Ticket\n",
    "{\n",
    "    private string conferenceName;\n",
    "    public string ConferenceName\n",
    "    {\n",
    "        get { return conferenceName; }\n",
    "        set { conferenceName = value; }\n",
    "    }\n",
    "\n",
    "    public override void ReserveSeat()\n",
    "    {\n",
    "       Console.WriteLine(\"Место на {conferenceName} зарезервировано.\");\n",
    "    }\n",
    "}\n",
    "\n",
    "ConcertTicket ticket = new ConcertTicket();\n",
    "ticket.TicketID = 1;\n",
    "ticket.SeatNumber = 4;\n",
    "ticket.RowNumber = 8;\n",
    "ticket.ArtistName = \"Егор Крид\";\n",
    "ticket.PrintTicketInfo();\n",
    "ticket.GetTicketDetails();\n",
    "\n"
   ]
  }
 ],
 "metadata": {
  "kernelspec": {
   "display_name": ".NET (C#)",
   "language": "C#",
   "name": ".net-csharp"
  },
  "polyglot_notebook": {
   "kernelInfo": {
    "defaultKernelName": "csharp",
    "items": [
     {
      "aliases": [],
      "languageName": "csharp",
      "name": "csharp"
     }
    ]
   }
  }
 },
 "nbformat": 4,
 "nbformat_minor": 2
}
